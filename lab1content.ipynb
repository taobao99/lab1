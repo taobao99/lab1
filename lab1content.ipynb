{
 "cells": [
  {
   "cell_type": "code",
   "execution_count": 154,
   "id": "1d706101-2890-4a72-b76d-8ce355f48c61",
   "metadata": {},
   "outputs": [],
   "source": [
    "import numpy as np\n",
    "import matplotlib\n",
    "import matplotlib.pyplot as plt\n",
    "import scipy\n",
    "from scipy import stats"
   ]
  },
  {
   "cell_type": "markdown",
   "id": "219f615c-5d4e-41ee-93dc-d8dda0d534d3",
   "metadata": {},
   "source": [
    "a little statistics\n",
    "problem1"
   ]
  },
  {
   "cell_type": "code",
   "execution_count": 155,
   "id": "0907e203-ebe7-43a6-8f3a-571ea40d0066",
   "metadata": {},
   "outputs": [
    {
     "data": {
      "text/plain": [
       "array([0.97724987, 0.98777553, 0.99379033, 0.99702024, 0.9986501 ])"
      ]
     },
     "execution_count": 155,
     "metadata": {},
     "output_type": "execute_result"
    }
   ],
   "source": [
    "x = np.linspace(2,3,5)\n",
    "y = stats.norm.cdf(x)\n",
    "y"
   ]
  },
  {
   "cell_type": "code",
   "execution_count": 156,
   "id": "af4f70b8-5e72-4e4c-b61d-733d4f49075a",
   "metadata": {},
   "outputs": [
    {
     "data": {
      "text/plain": [
       "array([2.  , 2.25, 2.5 , 2.75, 3.  ])"
      ]
     },
     "execution_count": 156,
     "metadata": {},
     "output_type": "execute_result"
    }
   ],
   "source": [
    "stats.norm.ppf(y)"
   ]
  },
  {
   "cell_type": "markdown",
   "id": "99d22a3d-fd1c-4d77-a860-58d1e803a11f",
   "metadata": {},
   "source": [
    "If the negative values appear, it means that smaller than the mean of the normal distribution. It is on the left of the symmetry."
   ]
  },
  {
   "cell_type": "markdown",
   "id": "3770b2d7-5a53-45fe-905b-a129282c73e2",
   "metadata": {},
   "source": [
    "problem2, choosing the exponential distribution"
   ]
  },
  {
   "cell_type": "code",
   "execution_count": 157,
   "id": "b0a8b655-4151-41f6-9182-0cec8b36af93",
   "metadata": {},
   "outputs": [
    {
     "data": {
      "text/plain": [
       "array([5.03902257, 5.00086307, 5.01888906, ..., 5.01619156, 5.01478234,\n",
       "       5.00610261])"
      ]
     },
     "execution_count": 157,
     "metadata": {},
     "output_type": "execute_result"
    }
   ],
   "source": [
    "z = stats.expon.rvs(loc = 5., scale = 0.01, size = 100000)\n",
    "z"
   ]
  },
  {
   "cell_type": "markdown",
   "id": "95e85934-47b0-48f9-8c88-593ac8598976",
   "metadata": {},
   "source": [
    "make plots"
   ]
  },
  {
   "cell_type": "code",
   "execution_count": 158,
   "id": "cb14c24b-00ca-426b-9c60-05eae178e6ae",
   "metadata": {},
   "outputs": [
    {
     "data": {
      "image/png": "[encoded data removed]",
      "text/plain": [
       "<Figure size 1080x720 with 1 Axes>"
      ]
     },
     "metadata": {
      "needs_background": "light"
     },
     "output_type": "display_data"
    }
   ],
   "source": [
    "plt.rcParams[\"figure.figsize\"] = (15,10)\n",
    "fig, ax = plt.subplots(1, 1)\n",
    "ax.hist(z,50, density=True)\n",
    "plt.tick_params(labelsize = 10)\n",
    "plt.xlim([5.00,5.09])\n",
    "x = np.linspace(4.95,5.1,1000)\n",
    "ax.plot(x,stats.expon.pdf(x,loc = 5, scale = 0.01),linewidth = 6,alpha = 0.4)\n",
    "plt.show()"
   ]
  },
  {
   "cell_type": "markdown",
   "id": "a39e379a-3f56-40e9-ac1a-e98170bf2177",
   "metadata": {},
   "source": [
    "problem 3, the signal-free data follows the exponential distribution"
   ]
  },
  {
   "cell_type": "markdown",
   "id": "851b3d15-0666-44e1-b016-0b16b2d5562d",
   "metadata": {},
   "source": [
    "a. select the hypothetical measurement value be 5.015\n",
    "b. the problem is that \n",
    "    what is the probability that value measured less than 5.015\n",
    "c. the intergal is the pdf over the interval (-oo, 5.015)"
   ]
  },
  {
   "cell_type": "code",
   "execution_count": 159,
   "id": "01ceec77-541b-436a-abb6-b126a35e7cea",
   "metadata": {},
   "outputs": [
    {
     "data": {
      "text/plain": [
       "0.776869839851563"
      ]
     },
     "execution_count": 159,
     "metadata": {},
     "output_type": "execute_result"
    }
   ],
   "source": [
    "val = 5.015\n",
    "pro = stats.expon.cdf(val, loc = 5, scale = 0.01)\n",
    "pro"
   ]
  },
  {
   "cell_type": "markdown",
   "id": "dc16ca14-9c1c-43d5-88cb-5cd433c9be66",
   "metadata": {},
   "source": [
    "The answer to the part b) is 0.7769."
   ]
  },
  {
   "cell_type": "code",
   "execution_count": 160,
   "id": "ec97e99f-c399-4cef-b27d-e9b97b165d94",
   "metadata": {},
   "outputs": [
    {
     "data": {
      "text/plain": [
       "5.015"
      ]
     },
     "execution_count": 160,
     "metadata": {},
     "output_type": "execute_result"
    }
   ],
   "source": [
    "a = stats.expon.ppf(pro,loc = 5, scale = 0.01)\n",
    "a"
   ]
  },
  {
   "cell_type": "markdown",
   "id": "be93e5e3-52b7-4da1-9548-1774b6cc9a33",
   "metadata": {},
   "source": [
    "the value of a is same as the hypothetical value we have chosen"
   ]
  },
  {
   "cell_type": "code",
   "execution_count": 161,
   "id": "694164fc-8bb2-4c7b-acbf-ac86aaeac14d",
   "metadata": {},
   "outputs": [
    {
     "data": {
      "text/plain": [
       "0.5021507914530154"
      ]
     },
     "execution_count": 161,
     "metadata": {},
     "output_type": "execute_result"
    }
   ],
   "source": [
    "#using the sigma formula\n",
    "meanValue = np.mean(z)\n",
    "sig = (val - meanValue)/0.01\n",
    "sig"
   ]
  },
  {
   "cell_type": "markdown",
   "id": "2fc394b5-0fe2-4cfb-b295-2d9a21a7fa6e",
   "metadata": {},
   "source": [
    "The sigma value is about 0.5."
   ]
  },
  {
   "cell_type": "markdown",
   "id": "5cdd2016-1b63-477c-9637-dab7fa4aee2e",
   "metadata": {},
   "source": [
    "problem 4"
   ]
  },
  {
   "cell_type": "markdown",
   "id": "ad22a98e-fefe-43b8-9fb8-34db6bdce0ca",
   "metadata": {},
   "source": [
    "trial 1"
   ]
  },
  {
   "cell_type": "code",
   "execution_count": 162,
   "id": "188cd1e2-02a0-4e75-8bfd-e3a9106d403d",
   "metadata": {},
   "outputs": [
    {
     "data": {
      "text/plain": [
       "0.5506710358827787"
      ]
     },
     "execution_count": 162,
     "metadata": {},
     "output_type": "execute_result"
    }
   ],
   "source": [
    "val2 = 5.008\n",
    "pro2 = stats.expon.cdf(val2, loc = 5, scale = 0.01)\n",
    "pro2"
   ]
  },
  {
   "cell_type": "code",
   "execution_count": 163,
   "id": "5f369549-64a0-46f6-867f-87ef3ab51bd7",
   "metadata": {},
   "outputs": [
    {
     "data": {
      "text/plain": [
       "-0.19784920854695187"
      ]
     },
     "execution_count": 163,
     "metadata": {},
     "output_type": "execute_result"
    }
   ],
   "source": [
    "sig2 = (val2 - meanValue)/0.01\n",
    "sig2"
   ]
  },
  {
   "cell_type": "code",
   "execution_count": 164,
   "id": "b6e3992d-1cec-4dbe-a918-8b6dcd7f94ec",
   "metadata": {},
   "outputs": [
    {
     "data": {
      "text/plain": [
       "0.9996645373720975"
      ]
     },
     "execution_count": 164,
     "metadata": {},
     "output_type": "execute_result"
    }
   ],
   "source": [
    "val3 = 5.08\n",
    "pro3 = stats.expon.cdf(val3, loc = 5, scale = 0.01)\n",
    "pro3"
   ]
  },
  {
   "cell_type": "code",
   "execution_count": 165,
   "id": "779aff9a-f201-4b26-9c79-2c19e8079f49",
   "metadata": {},
   "outputs": [
    {
     "data": {
      "text/plain": [
       "7.0021507914530545"
      ]
     },
     "execution_count": 165,
     "metadata": {},
     "output_type": "execute_result"
    }
   ],
   "source": [
    "sig3 = (val3 - meanValue)/0.01\n",
    "sig3"
   ]
  },
  {
   "cell_type": "markdown",
   "id": "61b279e0-60b8-4a58-bd85-e268387e0985",
   "metadata": {},
   "source": [
    "The pattern is that with the increasing of x values, then the probability always keeps increasing. Because we always measure the area on the left of the chosen value, then the area keeps increasing. Meanwhile, the sigma will change from the negative value to the positive value, and its absolute value is initially decrease then to zero then finally increase."
   ]
  },
  {
   "cell_type": "markdown",
   "id": "610ab9fe-7989-4fec-b3ca-37372f429ccc",
   "metadata": {},
   "source": [
    "part 2 non-continous distributions, choosing the Binomial"
   ]
  },
  {
   "cell_type": "markdown",
   "id": "3df7ac23-8190-4937-887f-173ebd80512c",
   "metadata": {},
   "source": [
    "The parameters are n and p, where p is the probability of success of one single trial, and n is the total number of trials."
   ]
  },
  {
   "cell_type": "markdown",
   "id": "c8151698-156b-41bb-899b-392b43d4c877",
   "metadata": {},
   "source": [
    "trial one, n is 50 and p = 0.7"
   ]
  },
  {
   "cell_type": "code",
   "execution_count": 166,
   "id": "17282c83-3649-4c41-a624-772519c21c4d",
   "metadata": {},
   "outputs": [
    {
     "data": {
      "image/png": "[encoded data removed]",
      "text/plain": [
       "<Figure size 1080x720 with 1 Axes>"
      ]
     },
     "metadata": {
      "needs_background": "light"
     },
     "output_type": "display_data"
    }
   ],
   "source": [
    "n = 50\n",
    "p = 0.7\n",
    "values = np.linspace(0,n,n+1)\n",
    "dist = [binom.pmf(b, n, p) for b in values ]\n",
    "plt.bar(values, dist)\n",
    "plt.show()"
   ]
  },
  {
   "cell_type": "code",
   "execution_count": 167,
   "id": "23320145-5619-469f-8bd0-90a5fa3c671d",
   "metadata": {},
   "outputs": [
    {
     "data": {
      "image/png": "[encoded data removed]",
      "text/plain": [
       "<Figure size 1080x720 with 1 Axes>"
      ]
     },
     "metadata": {
      "needs_background": "light"
     },
     "output_type": "display_data"
    }
   ],
   "source": [
    "plt.stairs(dist,linewidth = 5,alpha = 0.7)\n",
    "plt.show()"
   ]
  },
  {
   "cell_type": "markdown",
   "id": "fe0c6e4f-41d8-46f0-8adb-03976aed4b9b",
   "metadata": {},
   "source": [
    "trial two, with p = 0.35 and n =100"
   ]
  },
  {
   "cell_type": "code",
   "execution_count": 168,
   "id": "7ed3445c-700e-46b3-a1b2-f016ae13c5a5",
   "metadata": {},
   "outputs": [
    {
     "data": {
      "image/png": "[encoded data removed]",
      "text/plain": [
       "<Figure size 1080x720 with 1 Axes>"
      ]
     },
     "metadata": {
      "needs_background": "light"
     },
     "output_type": "display_data"
    }
   ],
   "source": [
    "n2 = 100\n",
    "p2 = 0.35\n",
    "values2 = np.linspace(0,n2,n2+1)\n",
    "dist2 = [binom.pmf(b2, n2, p2) for b2 in values2 ]\n",
    "plt.bar(values2, dist2)\n",
    "plt.show()"
   ]
  },
  {
   "cell_type": "code",
   "execution_count": 169,
   "id": "6a9f969f-3971-46e1-b88f-ba1ea3f9359c",
   "metadata": {},
   "outputs": [
    {
     "data": {
      "image/png": "[encoded data removed]",
      "text/plain": [
       "<Figure size 1080x720 with 1 Axes>"
      ]
     },
     "metadata": {
      "needs_background": "light"
     },
     "output_type": "display_data"
    }
   ],
   "source": [
    "plt.stairs(dist2,linewidth = 5,alpha = 0.7)\n",
    "plt.show()"
   ]
  },
  {
   "cell_type": "markdown",
   "id": "c12d42dd-4b2c-4a62-ae38-3c48b03bd481",
   "metadata": {},
   "source": [
    "The explanation to the features is ..."
   ]
  },
  {
   "cell_type": "markdown",
   "id": "54369425-bc57-4d63-9dc2-5ead8bb3d906",
   "metadata": {},
   "source": [
    "The question is that what is the probability of having 30 events over total 100 trials if the probability of success is 0.35"
   ]
  },
  {
   "cell_type": "code",
   "execution_count": 170,
   "id": "7c3eb309-9d33-4609-a3eb-92561700a0b2",
   "metadata": {},
   "outputs": [
    {
     "data": {
      "text/plain": [
       "0.049421376758863836"
      ]
     },
     "execution_count": 170,
     "metadata": {},
     "output_type": "execute_result"
    }
   ],
   "source": [
    "ans = binom.pmf(30, 100, 0.35)\n",
    "ans"
   ]
  },
  {
   "cell_type": "markdown",
   "id": "ba4ae266-0fdc-4be9-80aa-154b2fedb9d5",
   "metadata": {},
   "source": [
    "When the probability of one single success is 0.35, then the probability of having 30 events over total 100 trials will be 0.049."
   ]
  },
  {
   "cell_type": "markdown",
   "id": "a7c2b2d5-ba27-4702-943d-7f2d7821bbdd",
   "metadata": {},
   "source": [
    "what continuous, what not...."
   ]
  },
  {
   "cell_type": "code",
   "execution_count": null,
   "id": "5fc7ba86-0d4f-4e9b-a43c-6b0495982dba",
   "metadata": {},
   "outputs": [],
   "source": []
  }
 ],
 "metadata": {
  "kernelspec": {
   "display_name": "Python 3",
   "language": "python",
   "name": "python3"
  },
  "language_info": {
   "codemirror_mode": {
    "name": "ipython",
    "version": 3
   },
   "file_extension": ".py",
   "mimetype": "text/x-python",
   "name": "python",
   "nbconvert_exporter": "python",
   "pygments_lexer": "ipython3",
   "version": "3.8.8"
  }
 },
 "nbformat": 4,
 "nbformat_minor": 5
}
