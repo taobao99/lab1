{
 "cells": [
  {
   "cell_type": "markdown",
   "id": "9febe0ae-c341-49f0-bc05-59c7c33b1387",
   "metadata": {},
   "source": [
    "# lab3"
   ]
  },
  {
   "cell_type": "code",
   "execution_count": 40,
   "id": "27e97a04-3e87-4dd6-b0ad-35bbf6c264dd",
   "metadata": {},
   "outputs": [],
   "source": [
    "import numpy as np\n",
    "import matplotlib\n",
    "import matplotlib.pyplot as plt\n",
    "import scipy\n",
    "from scipy import stats\n",
    "plt.rcParams[\"figure.figsize\"] = (10,8)"
   ]
  },
  {
   "cell_type": "code",
   "execution_count": 30,
   "id": "71db54c7-a1e5-44c3-8091-1001420d3715",
   "metadata": {},
   "outputs": [
    {
     "data": {
      "image/png": "[encoded data removed]",
      "text/plain": [
       "<Figure size 720x576 with 1 Axes>"
      ]
     },
     "metadata": {
      "needs_background": "light"
     },
     "output_type": "display_data"
    }
   ],
   "source": [
    "# where mean is 12, and sd is 0.4\n",
    "d = np.append(stats.norm.rvs(loc = 12., scale = 0.4, size = 100000), [10., 10.3, 2.1, 0., 0., 15.6, 22.3, 12.7])\n",
    "fig, ax = plt.subplots(1, 1)\n",
    "ax.hist(d,100, density=True)\n",
    "plt.tick_params(labelsize = 24)\n",
    "plt.yscale('log')\n",
    "#x = np.linspace(4.95,5.05,1000)\n",
    "#ax.plot(x,stats.norm.pdf(x,loc = 5., scale = 0.01),linewidth = 8,alpha = 0.7)\n",
    "plt.show()\n"
   ]
  },
  {
   "cell_type": "markdown",
   "id": "4b38defa-0ccc-482d-b65a-11077021d29a",
   "metadata": {},
   "source": [
    "# part A)\n",
    "A2) \n",
    "The statistical question expressed in the word is to define which data is good and which data is bad.\n",
    "And find the threshold value of the $X\\sigma$ to make sure that we remove maximun bad data and keep maximun good data.\n"
   ]
  },
  {
   "cell_type": "markdown",
   "id": "a900ca31-9b17-4e1e-a7cd-ff1ac45fe1a4",
   "metadata": {},
   "source": [
    "A3) The question in math is within which deviation from the mean do we want to include."
   ]
  },
  {
   "cell_type": "markdown",
   "id": "3b48800f-fd42-4470-b098-21f795638ed1",
   "metadata": {},
   "source": [
    "A4) statistical test and truth table\n",
    "and assume each variable as below, and here we choose $3\\sigma$, $4\\sigma$ and $5\\sigma$"
   ]
  },
  {
   "cell_type": "markdown",
   "id": "826f3f1c-148e-4507-b769-27b0b78b4214",
   "metadata": {},
   "source": [
    "|  | True T | Bad T |\n",
    "| --- | --- | --- |\n",
    "| Your Test Good | GT | GB |\n",
    "| Your Test Bad  | BT | BB |"
   ]
  },
  {
   "cell_type": "code",
   "execution_count": 31,
   "id": "fe20ab99-2e97-41fe-8cf5-e87fb6802acd",
   "metadata": {},
   "outputs": [
    {
     "name": "stdout",
     "output_type": "stream",
     "text": [
      "Your Test Good + True T = 99742\n",
      "Your Test Good + Bad T = 1\n",
      "Your Test Bad + True T = 258\n",
      "Your Test Bad + Bad T = 7\n"
     ]
    }
   ],
   "source": [
    "#3sigma\n",
    "\n",
    "#initialize\n",
    "GT = 0\n",
    "BT = 0\n",
    "GB = 0\n",
    "BB = 0\n",
    "\n",
    "badData = [10., 10.3, 2.1, 0., 0., 15.6, 22.3, 12.7]\n",
    "threshold = 1.2 #3*0.4\n",
    "\n",
    "for i in range(len(d)):\n",
    "    if (abs(12.-d[i]) >= threshold):#test bad\n",
    "        if d[i] in badData[:]:\n",
    "            BB = BB+1\n",
    "        else:\n",
    "            BT = BT+1\n",
    "    else: # test good \n",
    "        if d[i] in badData[:]:\n",
    "            GB = GB+1\n",
    "        else:\n",
    "            GT = GT+1\n",
    "\n",
    "print('Your Test Good + True T = ' + str(GT))\n",
    "print('Your Test Good + Bad T = ' + str(GB))\n",
    "print('Your Test Bad + True T = ' + str(BT))\n",
    "print('Your Test Bad + Bad T = ' + str(BB))"
   ]
  },
  {
   "cell_type": "markdown",
   "id": "b21ef268-0ad4-4ba8-94db-cd0f88c3f67f",
   "metadata": {},
   "source": [
    "|  | True T | Bad T |\n",
    "| --- | --- | --- |\n",
    "| Your Test Good | 99714 | 1 |\n",
    "| Your Test Bad  | 286 | 7 |"
   ]
  },
  {
   "cell_type": "code",
   "execution_count": 33,
   "id": "d9f9b82a-d386-403a-9697-bbd6faa542e0",
   "metadata": {},
   "outputs": [
    {
     "name": "stdout",
     "output_type": "stream",
     "text": [
      "Your Test Good + True T = 99997\n",
      "Your Test Good + Bad T = 1\n",
      "Your Test Bad + True T = 3\n",
      "Your Test Bad + Bad T = 7\n"
     ]
    }
   ],
   "source": [
    "#4sigma\n",
    "\n",
    "#initialize again\n",
    "GT = 0\n",
    "BT = 0\n",
    "GB = 0\n",
    "BB = 0\n",
    "\n",
    "threshold = 1.6 #4*0.4\n",
    "\n",
    "for i in range(len(d)):\n",
    "    if (abs(12.-d[i]) >= threshold):#test bad\n",
    "        if d[i] in badData[:]:\n",
    "            BB = BB+1\n",
    "        else:\n",
    "            BT = BT+1\n",
    "    else: # test good \n",
    "        if d[i] in badData[:]:\n",
    "            GB = GB+1\n",
    "        else:\n",
    "            GT = GT+1\n",
    "\n",
    "print('Your Test Good + True T = ' + str(GT))\n",
    "print('Your Test Good + Bad T = ' + str(GB))\n",
    "print('Your Test Bad + True T = ' + str(BT))\n",
    "print('Your Test Bad + Bad T = ' + str(BB))"
   ]
  },
  {
   "cell_type": "markdown",
   "id": "d345dc0e-6f9f-4931-8547-0a21afaf9ec5",
   "metadata": {},
   "source": [
    "|  | True T | Bad T |\n",
    "| --- | --- | --- |\n",
    "| Your Test Good | 99992 | 1 |\n",
    "| Your Test Bad  | 8 | 7 |"
   ]
  },
  {
   "cell_type": "code",
   "execution_count": 34,
   "id": "fd19ba2c-83b5-448d-be09-3b7485aa2aee",
   "metadata": {},
   "outputs": [
    {
     "name": "stdout",
     "output_type": "stream",
     "text": [
      "Your Test Good + True T = 100000\n",
      "Your Test Good + Bad T = 2\n",
      "Your Test Bad + True T = 0\n",
      "Your Test Bad + Bad T = 6\n"
     ]
    }
   ],
   "source": [
    "#5sigma\n",
    "\n",
    "#initialize again\n",
    "GT = 0\n",
    "BT = 0\n",
    "GB = 0\n",
    "BB = 0\n",
    "\n",
    "threshold = 2 #5*0.4\n",
    "\n",
    "for i in range(len(d)):\n",
    "    if (abs(12.-d[i]) >= threshold):#test bad\n",
    "        if d[i] in badData[:]:\n",
    "            BB = BB+1\n",
    "        else:\n",
    "            BT = BT+1\n",
    "    else: # test good \n",
    "        if d[i] in badData[:]:\n",
    "            GB = GB+1\n",
    "        else:\n",
    "            GT = GT+1\n",
    "\n",
    "print('Your Test Good + True T = ' + str(GT))\n",
    "print('Your Test Good + Bad T = ' + str(GB))\n",
    "print('Your Test Bad + True T = ' + str(BT))\n",
    "print('Your Test Bad + Bad T = ' + str(BB))"
   ]
  },
  {
   "cell_type": "markdown",
   "id": "9ead8d1a-8a9e-4f29-ba33-d27aaee62ad6",
   "metadata": {},
   "source": [
    "|  | True T | Bad T |\n",
    "| --- | --- | --- |\n",
    "| Your Test Good | 100000 | 2 |\n",
    "| Your Test Bad  | 0 | 6 |"
   ]
  },
  {
   "cell_type": "markdown",
   "id": "4dce0dea-0218-4034-9f58-651fa56491fe",
   "metadata": {},
   "source": [
    "# part b)"
   ]
  },
  {
   "cell_type": "markdown",
   "id": "5e454859-e40f-4235-b4fa-d39910788f37",
   "metadata": {},
   "source": [
    "With the chosen threshold increasing, we find that the number of omissions is decreasing. \n",
    "If the threshold value is relatively small, then we will omit more data, both good and bad, and vice versa. \n",
    "I think it is a predictable quantity, we can use the probability equation here to help us make a good prediction, especially here is mainly the Guassian distribution. "
   ]
  },
  {
   "cell_type": "markdown",
   "id": "dc9e6d3b-9651-432c-8aab-6ef7c8d0424b",
   "metadata": {},
   "source": [
    "# part c)"
   ]
  },
  {
   "cell_type": "markdown",
   "id": "8a24ca80-41c4-424c-8a15-a7933e04e504",
   "metadata": {},
   "source": [
    "Yes, there are mistakes of commision, which is the variable GT. I think they are avoidable in some extent, but we should also accept that it may be avoidable at such a large cost. For example, when the bad data point is so close to the expected value, then we need very small threshold value to omit it. Hence, we actually omit this bad data, but with the cost of a large number of the good data. "
   ]
  },
  {
   "cell_type": "markdown",
   "id": "cb7fadaa-b2ae-4a2d-bf5d-5a22854fe121",
   "metadata": {},
   "source": [
    "# Problem 2"
   ]
  },
  {
   "cell_type": "code",
   "execution_count": 35,
   "id": "aaf4749f-a907-4905-8035-0eb0ef75d7e2",
   "metadata": {},
   "outputs": [
    {
     "data": {
      "text/plain": [
       "<matplotlib.colorbar.Colorbar at 0x7f34989ce7f0>"
      ]
     },
     "execution_count": 35,
     "metadata": {},
     "output_type": "execute_result"
    },
    {
     "data": {
      "image/png": "[encoded data removed]",
      "text/plain": [
       "<Figure size 720x576 with 2 Axes>"
      ]
     },
     "metadata": {
      "needs_background": "light"
     },
     "output_type": "display_data"
    }
   ],
   "source": [
    "a = np.vstack((stats.norm.rvs( scale = 1, size = 100000), stats.norm.rvs( scale = 1, size = 100000)))\n",
    "a.shape\n",
    "fig, ax = plt.subplots(1, 1)\n",
    "h = ax.hist2d(a[0,:],a[1,:],bins=100, density=True);\n",
    "ax.set_aspect('equal', 'box')\n",
    "plt.xlim([-3 , 3])\n",
    "plt.ylim([-3 , 3])\n",
    "plt.title(\"2D Histogram of positional uncertainty\", fontsize = 24)\n",
    "plt.ylabel(\"$\\Delta$y arcseconds\", fontsize = 18)\n",
    "plt.xlabel(\"$\\Delta$x arcseconds\", fontsize = 18)\n",
    "plt.colorbar(h[3], ax=ax)\n"
   ]
  },
  {
   "cell_type": "markdown",
   "id": "478efb12-d896-41ab-ba14-ee8c6ee11c2a",
   "metadata": {},
   "source": [
    "1) \n",
    "The question in words is <br />\n",
    "What is the angular distance from the origin to produce the significance of 5 $\\sigma$ in movement at the background noise?"
   ]
  },
  {
   "cell_type": "markdown",
   "id": "3102be88-778f-4f8c-91c4-470107333469",
   "metadata": {},
   "source": [
    "2. \n",
    "The question in math is <br />\n",
    "In order to get the same outcome of the probability of the Guassian of 5 $\\sigma$, then what value we should choose on the Rayleigh distribution, to take the integral over the ppf function from this value to the infinity. Also, since the sum is alwyas one, we can also consider the left probabilities be same for simplicity."
   ]
  },
  {
   "cell_type": "code",
   "execution_count": 36,
   "id": "c1b8398b-901b-4b0c-b10a-edfb8089b0ca",
   "metadata": {},
   "outputs": [
    {
     "data": {
      "text/plain": [
       "Text(0, 0.5, 'probability density')"
      ]
     },
     "execution_count": 36,
     "metadata": {},
     "output_type": "execute_result"
    },
    {
     "data": {
      "image/png": "[encoded data removed]",
      "text/plain": [
       "<Figure size 720x576 with 1 Axes>"
      ]
     },
     "metadata": {
      "needs_background": "light"
     },
     "output_type": "display_data"
    }
   ],
   "source": [
    "dist = stats.rayleigh(scale = 1) #create a new Rayleigh distribution\n",
    "x = np.linspace (0,10,1000) #range of x values\n",
    "pdf =  dist.pdf(x)\n",
    "plt.plot(x, pdf)\n",
    "plt.ylim(0)\n",
    "plt.title(\"Rayleigh distribution's pdf\")\n",
    "plt.xlabel(\"x values\")\n",
    "plt.ylabel(\"probability density\")\n"
   ]
  },
  {
   "cell_type": "markdown",
   "id": "b28f16a3-5b06-4038-8c6c-b68d6bf4d5ef",
   "metadata": {},
   "source": [
    "3) "
   ]
  },
  {
   "cell_type": "code",
   "execution_count": 37,
   "id": "9b6d08e8-c540-4343-97ab-a6e94485ae5b",
   "metadata": {},
   "outputs": [
    {
     "name": "stdout",
     "output_type": "stream",
     "text": [
      "the angular distance required for 5 sigma detection of motion from the origin is 5.489079776034238\n"
     ]
    }
   ],
   "source": [
    "prob = stats.norm.cdf(5) #find the required probability\n",
    "value = stats.rayleigh.ppf(prob)\n",
    "print('the angular distance required for 5 sigma detection of motion from the origin is ' + str(value))"
   ]
  },
  {
   "cell_type": "markdown",
   "id": "79d0ed8e-4749-40ca-8f16-10b22b603eb2",
   "metadata": {},
   "source": [
    "# problem3"
   ]
  },
  {
   "cell_type": "markdown",
   "id": "c790fa60-adb6-4b1b-a9b0-be72a3aa0808",
   "metadata": {},
   "source": [
    " 1)\n",
    "Converted questionin into words:<br />\n",
    "What is the significance of the moon shadow detection that will provide 6800 rays signal or more for 15 days?"
   ]
  },
  {
   "cell_type": "markdown",
   "id": "70fbaf53-7ccb-4645-bcd1-77edd30e4445",
   "metadata": {},
   "source": [
    "2) \n",
    "tranlated into math:<br />\n",
    "From the assumption, we learn if the average number per minute of cosmic ray is one. Then during eight hours, we are bound to see average 480 rays during eight hours. Then, we find this distribution is actually the Poisson distribution, and can consider the parameter as $\\lambda = 480$. <br />\n",
    "Then, we consider 15 days as measurement, it is exactly doing the convolution of multiple Poisson distribution. From previous practise, we know that the convolution of poisson distributions will still be the Poisson distribution. Here, now the mean is $15 * 480 = 7200$. Actually, we consider the Poisson distributions with parameter as $\\lambda = 7200$. <br />\n",
    "Meanwhile, here 6800 is smaller than the expected value (7200) It is the on the left of the expected value, which means the sigma that we calculated will be negative. What we always do, it is on the right and sigma should be positive. <br />\n",
    "Last, for the probability part, we should take the left integral instead of the right integral."
   ]
  },
  {
   "cell_type": "code",
   "execution_count": 38,
   "id": "fae146fb-dfe1-49de-91ee-d67b078bec10",
   "metadata": {},
   "outputs": [
    {
     "data": {
      "text/plain": [
       "Text(0, 0.5, 'probability')"
      ]
     },
     "execution_count": 38,
     "metadata": {},
     "output_type": "execute_result"
    },
    {
     "data": {
      "image/png": "[encoded data removed]",
      "text/plain": [
       "<Figure size 720x576 with 1 Axes>"
      ]
     },
     "metadata": {
      "needs_background": "light"
     },
     "output_type": "display_data"
    }
   ],
   "source": [
    "x2 = np.linspace(0, 10000, 501)\n",
    "plt.step(x2, stats.poisson.pmf(x2, 7200))\n",
    "plt.xlim(6000,8000)\n",
    "plt.ylim(0)\n",
    "plt.title('Poisson Distribution')\n",
    "plt.xlabel('number of cosmic rays')\n",
    "plt.ylabel('probability')\n"
   ]
  },
  {
   "cell_type": "markdown",
   "id": "d1edeb70-b099-4cc8-b315-6f32a37aa86a",
   "metadata": {},
   "source": [
    "3. \n",
    "convert to sigma"
   ]
  },
  {
   "cell_type": "code",
   "execution_count": 39,
   "id": "a953325b-b7d4-414f-9838-74579b776c1e",
   "metadata": {},
   "outputs": [
    {
     "data": {
      "text/plain": [
       "-4.750747965777188"
      ]
     },
     "execution_count": 39,
     "metadata": {},
     "output_type": "execute_result"
    }
   ],
   "source": [
    "probability = stats.poisson.cdf(6800, 7200)\n",
    "sigma = stats.norm.ppf(probability)\n",
    "sigma"
   ]
  },
  {
   "cell_type": "markdown",
   "id": "10be5b51-5a78-47d6-b243-ad2de4ba487b",
   "metadata": {},
   "source": [
    "Here, we find the value of the sigma is -4.75. This absolute value of this sigma is smaller than five, then it cannot become a discovery."
   ]
  },
  {
   "cell_type": "code",
   "execution_count": null,
   "id": "198c6189-7510-406f-a62d-f4e0d95e1719",
   "metadata": {},
   "outputs": [],
   "source": []
  }
 ],
 "metadata": {
  "kernelspec": {
   "display_name": "Python 3",
   "language": "python",
   "name": "python3"
  },
  "language_info": {
   "codemirror_mode": {
    "name": "ipython",
    "version": 3
   },
   "file_extension": ".py",
   "mimetype": "text/x-python",
   "name": "python",
   "nbconvert_exporter": "python",
   "pygments_lexer": "ipython3",
   "version": "3.8.8"
  }
 },
 "nbformat": 4,
 "nbformat_minor": 5
}
