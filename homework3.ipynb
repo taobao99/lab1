{
 "cells": [
  {
   "cell_type": "markdown",
   "id": "574066d8-3768-40ac-9a95-2c72f1a18f4b",
   "metadata": {},
   "source": [
    "# homework 3"
   ]
  },
  {
   "cell_type": "code",
   "execution_count": 1,
   "id": "e3677ff4-4c6d-4c7a-b672-5a2edd55118a",
   "metadata": {},
   "outputs": [],
   "source": [
    "import numpy as np\n",
    "import matplotlib\n",
    "import matplotlib.pyplot as plt\n",
    "matplotlib.rcParams['figure.figsize'] = [10, 8]\n",
    "import scipy\n",
    "from scipy import stats"
   ]
  },
  {
   "cell_type": "markdown",
   "id": "51b63796-9c55-4b5c-a120-e417ba91f65f",
   "metadata": {},
   "source": [
    "# problem1"
   ]
  },
  {
   "cell_type": "markdown",
   "id": "d8601243-4d88-48f1-ab01-7df9d99e639b",
   "metadata": {},
   "source": [
    "1a)\n",
    "The number of total photos is 100.\n",
    "For the NN algorithm, there are 8 miscategorizations. Then, the rate of the mistakes = 8/100 = 8%. <br />\n",
    "Then, for the NA algoritm, there are total 12 miscategorizations. Then, the rate of the mistakes = 12/100 = 12%. <br />\n",
    "With the comparision, we find that 8% < 12%. Hence, the NN algorithm makes the fewest mistakes."
   ]
  },
  {
   "cell_type": "markdown",
   "id": "e92b9585-d2d6-4825-b0dd-86dbfcaf83b3",
   "metadata": {},
   "source": [
    "1b) From the analysis provided, we find that the zoo will care more about no bird escaping instead of locking people for a few seconds. Hence, the zoo will care more about the successful rate of identifying the bird instead of identifying both two categories."
   ]
  },
  {
   "cell_type": "markdown",
   "id": "9058517e-aec8-484b-b658-49268cf837b0",
   "metadata": {},
   "source": [
    "Then, the successful rate of identifying the bird of NN algorithm is 45/48 = 0.9375.<br />\n",
    "Also, the successful rate of identifying the bird of NA algorithm is 47/48 = 0.9792.<br />\n",
    "With comparision, we find that 0.9375 < 0.9792. Then the succesful rate of NA algorithm is relatively high. <br />\n",
    "Hence, the NA algorithm is better for the zoo, because it will let fewer birds escape."
   ]
  },
  {
   "cell_type": "markdown",
   "id": "064d3b2c-2243-421d-816f-616250ae58a1",
   "metadata": {},
   "source": [
    "1c) For simplicity, we can assume there will be total 10k photos taken, and will alwyas round the outcomes to the integer. For the actual number, the number of true bird is $10k*99%$ = 9900, and the number of true person is $10k*1%$ = 100.\n",
    "Then, we know the successful rate of identifying the bird from the part b)."
   ]
  },
  {
   "cell_type": "markdown",
   "id": "38416260-138e-46b8-ae08-ae95b0fa4c29",
   "metadata": {},
   "source": [
    "|  | True Bird | True Person |\n",
    "| --- | --- | --- |\n",
    "| NN Bird | 9900*0.9375 |  |\n",
    "| NN Person | 9900*(1-0.9375) |  |"
   ]
  },
  {
   "cell_type": "markdown",
   "id": "621ec50e-4097-42a0-b275-3881e19944c6",
   "metadata": {},
   "source": [
    "|  | True Bird | True Person |\n",
    "| --- | --- | --- |\n",
    "| NA Bird | 9900*0.9792 |  |\n",
    "| NA Person | 9900*(1-0.9792) |  |"
   ]
  },
  {
   "cell_type": "markdown",
   "id": "826cc75f-dc98-4978-bf2e-98f83ce9dac9",
   "metadata": {},
   "source": [
    "|  | True Bird | True Person |\n",
    "| --- | --- | --- |\n",
    "| NN Bird | 9281 | |\n",
    "| NN Person | 619 |  |\n",
    "\n",
    "|  | True Bird | True Person |\n",
    "| --- | --- | --- |\n",
    "| NA Bird | 9694 |  |\n",
    "| NA Person | 206 |  |"
   ]
  },
  {
   "cell_type": "markdown",
   "id": "7536e50f-e0f8-4701-99ac-b705a6b599ff",
   "metadata": {},
   "source": [
    "Similarly, we find that NN algorithm of falling to identify the person is 5/52, then the NA algorithm of falling to identify the person is 11/53. Hence, the outcomes are respectively 0.09615 and 0.2075."
   ]
  },
  {
   "cell_type": "markdown",
   "id": "fdc4ca27-bfc9-4ff2-8b31-4e3757779ac1",
   "metadata": {},
   "source": [
    "|  | True Bird | True Person |\n",
    "| --- | --- | --- |\n",
    "| NN Bird | 9281 | 100*0.09615|\n",
    "| NN Person | 619 |100- 100*0.09615 |\n",
    "\n",
    "|  | True Bird | True Person |\n",
    "| --- | --- | --- |\n",
    "| NA Bird | 9694 | 100*0.2075 |\n",
    "| NA Person | 206 | 100-100*0.2075 |"
   ]
  },
  {
   "cell_type": "markdown",
   "id": "734d2725-0401-4359-8723-ee8d0de3869c",
   "metadata": {},
   "source": [
    "Here is the final truth table\n",
    "\n",
    "|  | True Bird | True Person |\n",
    "| --- | --- | --- |\n",
    "| NN Bird | 9281 | 10|\n",
    "| NN Person | 619 |90 |\n",
    "\n",
    "|  | True Bird | True Person |\n",
    "| --- | --- | --- |\n",
    "| NA Bird | 9694 | 21 |\n",
    "| NA Person | 206 | 79 |"
   ]
  },
  {
   "cell_type": "markdown",
   "id": "29a18a53-db5c-4085-ae8a-b88c50c91e20",
   "metadata": {},
   "source": [
    "# problem2"
   ]
  },
  {
   "cell_type": "code",
   "execution_count": 2,
   "id": "362ab9bd-d63c-4827-b29c-4b632c2655b8",
   "metadata": {},
   "outputs": [
    {
     "data": {
      "image/png": "[encoded data removed]",
      "text/plain": [
       "<Figure size 720x576 with 1 Axes>"
      ]
     },
     "metadata": {
      "needs_background": "light"
     },
     "output_type": "display_data"
    }
   ],
   "source": [
    "# 2a)\n",
    "x = np.linspace(0,10,1000)\n",
    "pdf_1 = stats.expon.pdf(x)\n",
    "pdf_2 = np.convolve(pdf_1,pdf_1)\n",
    "plt.plot(x,pdf_1)\n",
    "plt.plot(np.linspace(0, 10, len(pdf_2)), pdf_2)\n",
    "plt.title(\"pdf of exponential distribution\")\n",
    "plt.xlabel(\"x-values\")\n",
    "plt.ylabel(\"probability density\")\n",
    "plt.show()\n",
    "# the blue line is the pdf of one exponential distribution, \n",
    "# and the orange line is the pdf of sum of two identical exponential distribution"
   ]
  },
  {
   "cell_type": "markdown",
   "id": "b67fa6b6-0546-4c79-8a32-ed2d097e461d",
   "metadata": {},
   "source": [
    "The pdf of the exponential distribution is $f(x) = \\lambda * e^{-\\lambda x}$, then convolve these two identical exponential distributions, we get $\\lambda^2xe^{-\\lambda x}$"
   ]
  },
  {
   "cell_type": "markdown",
   "id": "65f95bdf-ee44-4c87-8131-e6fb4fc338dd",
   "metadata": {},
   "source": [
    "The pdf of sum of two identical exponential distribution seem like the pdf of Gamma distribution, with $\\alpha = 2$"
   ]
  },
  {
   "cell_type": "markdown",
   "id": "bcce7cd0-bc63-4565-aaf6-7ff069fc2aa2",
   "metadata": {},
   "source": [
    "2b)\n",
    "This distributions are symmetric around the origin and the variance is 1. The pdf is $P(x) = \\frac{1}{\\pi(x^2+1)} $"
   ]
  },
  {
   "cell_type": "markdown",
   "id": "dcbcb8ef-ab67-4da5-a161-49e4e2f3b77a",
   "metadata": {},
   "source": [
    "This pdf seems like the Cauchy distribution."
   ]
  },
  {
   "cell_type": "markdown",
   "id": "07808279-92e3-4ba2-bce0-ee57397fc579",
   "metadata": {},
   "source": [
    "2c) let $ z = \\sqrt{x^2+y^2}$, and then $f(x) = \\frac{1}{\\sqrt{2 \\pi}}* e^{-x^2/2}$, $f(y) = \\frac{1}{\\sqrt{2 \\pi}}* e^{-y^2/2}$"
   ]
  },
  {
   "cell_type": "markdown",
   "id": "5abe8962-353d-4331-9571-27ad6b47d06f",
   "metadata": {},
   "source": [
    "And then, we get the pdf from taking the derivative of the cdf, then we get $P = x*e^{-x^2/2}$, which is like the Rayleigh distribution. "
   ]
  }
 ],
 "metadata": {
  "kernelspec": {
   "display_name": "Python 3",
   "language": "python",
   "name": "python3"
  },
  "language_info": {
   "codemirror_mode": {
    "name": "ipython",
    "version": 3
   },
   "file_extension": ".py",
   "mimetype": "text/x-python",
   "name": "python",
   "nbconvert_exporter": "python",
   "pygments_lexer": "ipython3",
   "version": "3.8.8"
  }
 },
 "nbformat": 4,
 "nbformat_minor": 5
}
